{
  "nbformat": 4,
  "nbformat_minor": 0,
  "metadata": {
    "colab": {
      "provenance": [],
      "authorship_tag": "ABX9TyODiA3Kh5PAaHZuzxxyO6Yf",
      "include_colab_link": true
    },
    "kernelspec": {
      "name": "python3",
      "display_name": "Python 3"
    },
    "language_info": {
      "name": "python"
    }
  },
  "cells": [
    {
      "cell_type": "markdown",
      "metadata": {
        "id": "view-in-github",
        "colab_type": "text"
      },
      "source": [
        "<a href=\"https://colab.research.google.com/github/2303A51689/2303A51689/blob/main/2303A51689_B10.ipynb\" target=\"_parent\"><img src=\"https://colab.research.google.com/assets/colab-badge.svg\" alt=\"Open In Colab\"/></a>"
      ]
    },
    {
      "cell_type": "markdown",
      "source": [
        "Prediction of coustmer intrests in cars and hotels using online reviews\n",
        "\n",
        "1.Identify top 5 hotels mostly liked by coustmers\n",
        "\n",
        "2.Identify the country with most hotels for tourism\n",
        "\n",
        "3.Find the max and min quantity of cars sold between 2007-2009\n",
        "\n",
        "4.Name the city with the most hotels liked by coustmers\n",
        "\n",
        "5.Identify the model of the car most sold in market\n",
        "\n",
        "6.Apply either Classification Model or Clustering Model to evaluate the dataset"
      ],
      "metadata": {
        "id": "CJCKUzU323R1"
      }
    },
    {
      "cell_type": "code",
      "source": [
        "pip install pandas numpy scikit-learn matplotlib seaborn\n"
      ],
      "metadata": {
        "colab": {
          "base_uri": "https://localhost:8080/"
        },
        "id": "C3XsttSa4wz9",
        "outputId": "8e0db1c5-9a79-4d64-cddf-eb83410cd760"
      },
      "execution_count": 15,
      "outputs": [
        {
          "output_type": "stream",
          "name": "stdout",
          "text": [
            "Requirement already satisfied: pandas in /usr/local/lib/python3.10/dist-packages (2.2.2)\n",
            "Requirement already satisfied: numpy in /usr/local/lib/python3.10/dist-packages (1.26.4)\n",
            "Requirement already satisfied: scikit-learn in /usr/local/lib/python3.10/dist-packages (1.5.2)\n",
            "Requirement already satisfied: matplotlib in /usr/local/lib/python3.10/dist-packages (3.8.0)\n",
            "Requirement already satisfied: seaborn in /usr/local/lib/python3.10/dist-packages (0.13.2)\n",
            "Requirement already satisfied: python-dateutil>=2.8.2 in /usr/local/lib/python3.10/dist-packages (from pandas) (2.8.2)\n",
            "Requirement already satisfied: pytz>=2020.1 in /usr/local/lib/python3.10/dist-packages (from pandas) (2024.2)\n",
            "Requirement already satisfied: tzdata>=2022.7 in /usr/local/lib/python3.10/dist-packages (from pandas) (2024.2)\n",
            "Requirement already satisfied: scipy>=1.6.0 in /usr/local/lib/python3.10/dist-packages (from scikit-learn) (1.13.1)\n",
            "Requirement already satisfied: joblib>=1.2.0 in /usr/local/lib/python3.10/dist-packages (from scikit-learn) (1.4.2)\n",
            "Requirement already satisfied: threadpoolctl>=3.1.0 in /usr/local/lib/python3.10/dist-packages (from scikit-learn) (3.5.0)\n",
            "Requirement already satisfied: contourpy>=1.0.1 in /usr/local/lib/python3.10/dist-packages (from matplotlib) (1.3.1)\n",
            "Requirement already satisfied: cycler>=0.10 in /usr/local/lib/python3.10/dist-packages (from matplotlib) (0.12.1)\n",
            "Requirement already satisfied: fonttools>=4.22.0 in /usr/local/lib/python3.10/dist-packages (from matplotlib) (4.55.0)\n",
            "Requirement already satisfied: kiwisolver>=1.0.1 in /usr/local/lib/python3.10/dist-packages (from matplotlib) (1.4.7)\n",
            "Requirement already satisfied: packaging>=20.0 in /usr/local/lib/python3.10/dist-packages (from matplotlib) (24.2)\n",
            "Requirement already satisfied: pillow>=6.2.0 in /usr/local/lib/python3.10/dist-packages (from matplotlib) (11.0.0)\n",
            "Requirement already satisfied: pyparsing>=2.3.1 in /usr/local/lib/python3.10/dist-packages (from matplotlib) (3.2.0)\n",
            "Requirement already satisfied: six>=1.5 in /usr/local/lib/python3.10/dist-packages (from python-dateutil>=2.8.2->pandas) (1.16.0)\n"
          ]
        }
      ]
    },
    {
      "cell_type": "code",
      "source": [
        "import pandas as pd\n",
        "import numpy as np\n",
        "from sklearn.cluster import KMeans\n",
        "from sklearn.preprocessing import StandardScaler\n",
        "from sklearn.model_selection import train_test_split\n",
        "from sklearn.ensemble import RandomForestClassifier\n",
        "from sklearn.metrics import classification_report\n",
        "\n",
        "\n",
        "\n",
        "\n",
        "hotel_reviews_df = pd.read('/content/india_new delhi_ajanta_hotel')  # Columns: 'Hotel_Name', 'City', 'Country', 'Rating'\n",
        "\n",
        "top_hotels = hotel_reviews_df.groupby('Hotel_Name')['Rating'].mean().sort_values(ascending=False).head(5)\n",
        "print(\"Top 5 hotels most liked by customers:\")\n",
        "print(top_hotels)\n",
        "\n",
        "country_hotel_counts = hotel_reviews_df['Country'].value_counts()\n",
        "top_country = country_hotel_counts.idxmax()\n",
        "print(f\"\\nCountry with the most hotels for tourism: {top_country}\")\n",
        "\n",
        "car_sales_filtered = car_sales_df[(car_sales_df['Year'] >= 2007) & (car_sales_df['Year'] <= 2009)]\n",
        "max_sales = car_sales_filtered['Quantity_Sold'].max()\n",
        "min_sales = car_sales_filtered['Quantity_Sold'].min()\n",
        "print(f\"\\nMax quantity of cars sold between 2007-2009: {max_sales}\")\n",
        "print(f\"Min quantity of cars sold between 2007-2009: {min_sales}\")\n",
        "\n",
        "city_avg_rating = hotel_reviews_df.groupby('City')['Rating'].mean()\n",
        "top_city = city_avg_rating.idxmax()\n",
        "print(f\"\\nCity with the most hotels liked by customers: {top_city}\")\n",
        "\n",
        "top_car_model = car_sales_df.groupby('Car_Model')['Quantity_Sold'].sum().idxmax()\n",
        "print(f\"\\nCar model most sold in the market: {top_car_model}\")\n",
        "\n",
        "\n",
        "features = hotel_reviews_df[['Rating']]\n",
        "scaler = StandardScaler()\n",
        "features_scaled = scaler.fit_transform(features)\n",
        "\n",
        "kmeans = KMeans(n_clusters=3, random_state=42)\n",
        "hotel_reviews_df['Cluster'] = kmeans.fit_predict(features_scaled)\n",
        "\n",
        "print(\"\\nHotel Clustering Results (based on Rating):\")\n",
        "print(hotel_reviews_df[['Hotel_Name', 'Cluster']].head())\n",
        "\n",
        "\n",
        "\n",
        "hotel_reviews_df['Liked'] = (hotel_reviews_df['Rating'] > 4).astype(int)\n",
        "\n",
        "X = hotel_reviews_df[['Rating']]  # Features (for simplicity, using only Rating)\n",
        "y = hotel_reviews_df['Liked']  # Target variable (liked or not)\n",
        "\n",
        "# Split into training and testing sets\n",
        "X_train, X_test, y_train, y_test = train_test_split(X, y, test_size=0.3, random_state=42)\n",
        "\n",
        "# Train a Random Forest Classifier\n",
        "rf_classifier = RandomForestClassifier(n_estimators=100, random_state=42)\n",
        "rf_classifier.fit(X_train, y_train)\n",
        "\n",
        "# Make predictions\n",
        "y_pred = rf_classifier.predict(X_test)\n",
        "\n",
        "# Evaluate the model\n",
        "print(\"\\nClassification Report for Hotel Liking Prediction:\")\n",
        "print(classification_report(y_test, y_pred))\n",
        "\n"
      ],
      "metadata": {
        "colab": {
          "base_uri": "https://localhost:8080/",
          "height": 211
        },
        "id": "Q4-_0FM8_01d",
        "outputId": "f12558b9-3957-4015-c0b4-b02a15e13b43"
      },
      "execution_count": 45,
      "outputs": [
        {
          "output_type": "error",
          "ename": "AttributeError",
          "evalue": "module 'pandas' has no attribute 'read'",
          "traceback": [
            "\u001b[0;31m---------------------------------------------------------------------------\u001b[0m",
            "\u001b[0;31mAttributeError\u001b[0m                            Traceback (most recent call last)",
            "\u001b[0;32m<ipython-input-45-3bfd643f71e8>\u001b[0m in \u001b[0;36m<cell line: 14>\u001b[0;34m()\u001b[0m\n\u001b[1;32m     12\u001b[0m \u001b[0;31m# Load the car sales and hotel reviews data\u001b[0m\u001b[0;34m\u001b[0m\u001b[0;34m\u001b[0m\u001b[0m\n\u001b[1;32m     13\u001b[0m \u001b[0;31m#car_sales_df = pd.read_csv('car_sales.csv')  # Columns: 'Year', 'Car_Model', 'Quantity_Sold'\u001b[0m\u001b[0;34m\u001b[0m\u001b[0;34m\u001b[0m\u001b[0m\n\u001b[0;32m---> 14\u001b[0;31m \u001b[0mhotel_reviews_df\u001b[0m \u001b[0;34m=\u001b[0m \u001b[0mpd\u001b[0m\u001b[0;34m.\u001b[0m\u001b[0mread\u001b[0m\u001b[0;34m(\u001b[0m\u001b[0;34m'/content/india_new delhi_ajanta_hotel'\u001b[0m\u001b[0;34m)\u001b[0m  \u001b[0;31m# Columns: 'Hotel_Name', 'City', 'Country', 'Rating'\u001b[0m\u001b[0;34m\u001b[0m\u001b[0;34m\u001b[0m\u001b[0m\n\u001b[0m\u001b[1;32m     15\u001b[0m \u001b[0;34m\u001b[0m\u001b[0m\n\u001b[1;32m     16\u001b[0m \u001b[0;31m# Task 1: Identify the top 5 hotels most liked by customers\u001b[0m\u001b[0;34m\u001b[0m\u001b[0;34m\u001b[0m\u001b[0m\n",
            "\u001b[0;31mAttributeError\u001b[0m: module 'pandas' has no attribute 'read'"
          ]
        }
      ]
    }
  ]
}