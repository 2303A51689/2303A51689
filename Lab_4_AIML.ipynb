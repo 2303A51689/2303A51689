{
  "nbformat": 4,
  "nbformat_minor": 0,
  "metadata": {
    "colab": {
      "provenance": [],
      "authorship_tag": "ABX9TyOLekwheuptBx+ixTLQAGZW",
      "include_colab_link": true
    },
    "kernelspec": {
      "name": "python3",
      "display_name": "Python 3"
    },
    "language_info": {
      "name": "python"
    }
  },
  "cells": [
    {
      "cell_type": "markdown",
      "metadata": {
        "id": "view-in-github",
        "colab_type": "text"
      },
      "source": [
        "<a href=\"https://colab.research.google.com/github/2303A51689/2303A51689/blob/main/Lab_4_AIML.ipynb\" target=\"_parent\"><img src=\"https://colab.research.google.com/assets/colab-badge.svg\" alt=\"Open In Colab\"/></a>"
      ]
    },
    {
      "cell_type": "markdown",
      "source": [
        "1.Import packages and dataset"
      ],
      "metadata": {
        "id": "HH16vN4rWj0J"
      }
    },
    {
      "cell_type": "code",
      "execution_count": 26,
      "metadata": {
        "id": "zXwSc6rCWh4W"
      },
      "outputs": [],
      "source": [
        "import numpy as np\n",
        "import pandas as pd\n",
        "import matplotlib.pyplot as plt\n",
        "import seaborn as sns\n",
        "%matplotlib inline"
      ]
    },
    {
      "cell_type": "code",
      "source": [
        "df=pd.read_csv(\"/content/sample_data/california_housing_train.csv\")\n",
        "df.head()"
      ],
      "metadata": {
        "id": "T2f7QJ8UW4q9"
      },
      "execution_count": null,
      "outputs": []
    },
    {
      "cell_type": "code",
      "source": [
        "df.info(verbose=True)"
      ],
      "metadata": {
        "id": "sc_0mvipXdQv"
      },
      "execution_count": null,
      "outputs": []
    },
    {
      "cell_type": "code",
      "source": [
        "df.describe(percentiles=[0.1,.025,0.5,0.75,0.9])"
      ],
      "metadata": {
        "id": "RRlbF66uYHnQ"
      },
      "execution_count": null,
      "outputs": []
    },
    {
      "cell_type": "code",
      "source": [
        "df.columns[7]"
      ],
      "metadata": {
        "colab": {
          "base_uri": "https://localhost:8080/",
          "height": 36
        },
        "id": "tRztDM1CYw3Y",
        "outputId": "06c8b6ee-a2d6-4e67-aca3-bfd12422f85b"
      },
      "execution_count": 22,
      "outputs": [
        {
          "output_type": "execute_result",
          "data": {
            "text/plain": [
              "'median_income'"
            ],
            "application/vnd.google.colaboratory.intrinsic+json": {
              "type": "string"
            }
          },
          "metadata": {},
          "execution_count": 22
        }
      ]
    },
    {
      "cell_type": "code",
      "source": [
        "sns.pairplot(df)"
      ],
      "metadata": {
        "collapsed": true,
        "id": "6c9JCpKIY5Ke"
      },
      "execution_count": null,
      "outputs": []
    },
    {
      "cell_type": "code",
      "source": [
        "df['median_house_value'].plot.hist(bins=25,figsize=(8,4))"
      ],
      "metadata": {
        "id": "4bgLQyfFZyxX"
      },
      "execution_count": null,
      "outputs": []
    },
    {
      "cell_type": "code",
      "source": [
        "df['median_house_value'].plot.density()"
      ],
      "metadata": {
        "id": "kE6K-gcCaqyn"
      },
      "execution_count": null,
      "outputs": []
    },
    {
      "cell_type": "code",
      "source": [
        "df.corr()"
      ],
      "metadata": {
        "id": "BvbMtpudal-D"
      },
      "execution_count": null,
      "outputs": []
    },
    {
      "cell_type": "code",
      "source": [
        "plt.figure(figsize=(10,7))\n",
        "sns.heatmap(df.corr(),annot=True,linewidths=2)"
      ],
      "metadata": {
        "collapsed": true,
        "id": "QB5R-_ZXbCM1"
      },
      "execution_count": null,
      "outputs": []
    },
    {
      "cell_type": "markdown",
      "source": [
        "Make a list of data frame column names"
      ],
      "metadata": {
        "id": "hKdwoOqPdQCf"
      }
    },
    {
      "cell_type": "code",
      "source": [
        "l_column=list(df.columns)\n",
        "len_feature=len(l_column)\n",
        "l_column,len_feature"
      ],
      "metadata": {
        "collapsed": true,
        "id": "NKAkzcXjcnYn"
      },
      "execution_count": null,
      "outputs": []
    },
    {
      "cell_type": "code",
      "source": [
        "X=df[l_column[0:len_feature-2]]\n",
        "y=df[l_column[len_feature-1]]\n"
      ],
      "metadata": {
        "id": "qiWh2ftLd8jy"
      },
      "execution_count": 37,
      "outputs": []
    },
    {
      "cell_type": "code",
      "source": [
        "print(\"Feature set size:\",X.shape)\n",
        "print(\"Variable set size:\",y.shape)"
      ],
      "metadata": {
        "id": "3yuO5lcWeJbP"
      },
      "execution_count": null,
      "outputs": []
    },
    {
      "cell_type": "code",
      "source": [
        "X.head()"
      ],
      "metadata": {
        "id": "fGqY3xY3e012"
      },
      "execution_count": null,
      "outputs": []
    },
    {
      "cell_type": "code",
      "source": [
        "y.head()"
      ],
      "metadata": {
        "id": "I4MzQ9Rwe4Kv"
      },
      "execution_count": null,
      "outputs": []
    },
    {
      "cell_type": "markdown",
      "source": [
        "PART-2: Test-train split\n",
        "\n",
        "Import train_test_split function from scikit-learn"
      ],
      "metadata": {
        "id": "RxOCHp-afrUX"
      }
    },
    {
      "cell_type": "code",
      "source": [
        "from sklearn.model_selection import train_test_split"
      ],
      "metadata": {
        "id": "vjhBkZO2foz3"
      },
      "execution_count": 41,
      "outputs": []
    },
    {
      "cell_type": "code",
      "source": [
        "X_train,X_test,y_train,y_test=train_test_split(X,y,test_size=0.2,random_state=123)"
      ],
      "metadata": {
        "id": "ikBpWeRSgTOn"
      },
      "execution_count": 42,
      "outputs": []
    },
    {
      "cell_type": "code",
      "source": [
        "X_train.shape,X_test.shape"
      ],
      "metadata": {
        "id": "kJIVZZHEgtCA"
      },
      "execution_count": null,
      "outputs": []
    },
    {
      "cell_type": "code",
      "source": [
        "y_train.shape,y_test.shape"
      ],
      "metadata": {
        "id": "4tyApkzJg4gX"
      },
      "execution_count": null,
      "outputs": []
    },
    {
      "cell_type": "code",
      "source": [
        "print(\"Training feature set size:\",X_train.shape)\n",
        "print(\"Test feature set size:\",X_test.shape)\n",
        "print(\"Training variable set size:\",y_train.shape)\n",
        "print(\"Test variable set size:\",y_test.shape)"
      ],
      "metadata": {
        "id": "3J3UF6xChtuQ"
      },
      "execution_count": null,
      "outputs": []
    },
    {
      "cell_type": "markdown",
      "source": [
        "Model fit and Training"
      ],
      "metadata": {
        "id": "FOnxlKeIi574"
      }
    },
    {
      "cell_type": "code",
      "source": [
        "from sklearn.linear_model import LinearRegression\n",
        "from sklearn import metrics"
      ],
      "metadata": {
        "id": "m3jIsELViCOY"
      },
      "execution_count": 48,
      "outputs": []
    },
    {
      "cell_type": "code",
      "source": [
        "lm=LinearRegression()"
      ],
      "metadata": {
        "id": "XK-Yo6tyjSXn"
      },
      "execution_count": 49,
      "outputs": []
    },
    {
      "cell_type": "code",
      "source": [
        "lm.fit(X_train,y_train)"
      ],
      "metadata": {
        "id": "6Fk0W_bQjWH_"
      },
      "execution_count": null,
      "outputs": []
    },
    {
      "cell_type": "markdown",
      "source": [
        "Check the intercept and coefficients and put them in a DataFrame"
      ],
      "metadata": {
        "id": "_ZPS1WBYjo7m"
      }
    },
    {
      "cell_type": "code",
      "source": [
        "print(\"The intercept term of the linear model:\",lm.intercept_)"
      ],
      "metadata": {
        "id": "b27PrRWDjdjv"
      },
      "execution_count": null,
      "outputs": []
    },
    {
      "cell_type": "code",
      "source": [
        "print(\"The coefficients of the linear model:\",lm.coef_)"
      ],
      "metadata": {
        "id": "4Q-5t9Mcksug"
      },
      "execution_count": null,
      "outputs": []
    },
    {
      "cell_type": "markdown",
      "source": [
        "Calculation of standard errors and t-static for the coefficients"
      ],
      "metadata": {
        "id": "u3A9oULelNTY"
      }
    },
    {
      "cell_type": "code",
      "source": [
        "n=X_train.shape[0]\n",
        "k=X_train.shape[1]\n",
        "dfN=n-k\n",
        "train_pred=lm.predict(X_train)\n",
        "train_error=np.square(train_pred - y_train)\n",
        "sum_error=np.sum(train_error)\n",
        "se=[0,0,0,0,0,0]\n",
        "for i in range(k):\n",
        "  r=(sum_error/dfN)\n",
        "  r=r/np.sum(np.square(X_train[list(X_train.columns)[i]].mean()))"
      ],
      "metadata": {
        "id": "pR9Vt-LHlBjx"
      },
      "execution_count": null,
      "outputs": []
    }
  ]
}